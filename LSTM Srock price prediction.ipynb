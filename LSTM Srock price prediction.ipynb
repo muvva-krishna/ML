{
 "cells": [
  {
   "cell_type": "code",
   "execution_count": 1,
   "metadata": {},
   "outputs": [
    {
     "name": "stdout",
     "output_type": "stream",
     "text": [
      "WARNING:tensorflow:From c:\\Users\\krish\\anaconda3\\Lib\\site-packages\\keras\\src\\losses.py:2976: The name tf.losses.sparse_softmax_cross_entropy is deprecated. Please use tf.compat.v1.losses.sparse_softmax_cross_entropy instead.\n",
      "\n"
     ]
    }
   ],
   "source": [
    "import pandas as pd\n",
    "import numpy as np\n",
    "import matplotlib.pyplot as plt\n",
    "import yfinance as yf\n",
    "import datetime as dt\n",
    "from sklearn.preprocessing import MinMaxScaler\n",
    "#import tensorflow as tf\n",
    "from tensorflow.keras.models import Sequential\n",
    "from tensorflow.keras.layers import Dense,Dropout,LSTM"
   ]
  },
  {
   "cell_type": "code",
   "execution_count": 2,
   "metadata": {},
   "outputs": [
    {
     "name": "stderr",
     "output_type": "stream",
     "text": [
      "[*********************100%%**********************]  1 of 1 completed\n"
     ]
    }
   ],
   "source": [
    "ticker  = \"TSLA\"\n",
    "startdate = dt.datetime(2016,1,1)\n",
    "enddate = dt.datetime(2020,12,31)\n",
    "data = yf.download(ticker,start =startdate,end = enddate)"
   ]
  },
  {
   "cell_type": "code",
   "execution_count": 3,
   "metadata": {},
   "outputs": [
    {
     "data": {
      "text/plain": [
       "1258"
      ]
     },
     "execution_count": 3,
     "metadata": {},
     "output_type": "execute_result"
    }
   ],
   "source": [
    "scaled = MinMaxScaler(feature_range=(0,1))\n",
    "scaled_data = scaled.fit_transform(data['Close'].values.reshape(-1,1))\n",
    "len(scaled_data)"
   ]
  },
  {
   "cell_type": "code",
   "execution_count": 4,
   "metadata": {},
   "outputs": [],
   "source": [
    "days = 50\n",
    "x_train = []\n",
    "y_train = []\n",
    "for x in range(days,len(scaled_data)):\n",
    "    x_train.append(scaled_data[x-days:x,0])\n",
    "    y_train.append(scaled_data[x,0])\n",
    "\n",
    "x_train, y_train = np.array(x_train), np.array(y_train)\n",
    "x_train = np.reshape(x_train, (x_train.shape[0], x_train.shape[1],1))  # input foramt for lstm\n"
   ]
  },
  {
   "cell_type": "code",
   "execution_count": 5,
   "metadata": {},
   "outputs": [
    {
     "name": "stdout",
     "output_type": "stream",
     "text": [
      "[[[0.02393639]\n",
      "  [0.02394239]\n",
      "  [0.0226246 ]\n",
      "  ...\n",
      "  [0.01916051]\n",
      "  [0.02145689]\n",
      "  [0.02241447]]\n",
      "\n",
      " [[0.02394239]\n",
      "  [0.0226246 ]\n",
      "  [0.02160699]\n",
      "  ...\n",
      "  [0.02145689]\n",
      "  [0.02241447]\n",
      "  [0.02349212]]\n",
      "\n",
      " [[0.0226246 ]\n",
      "  [0.02160699]\n",
      "  [0.02021115]\n",
      "  ...\n",
      "  [0.02241447]\n",
      "  [0.02349212]\n",
      "  [0.02482792]]\n",
      "\n",
      " ...\n",
      "\n",
      " [[0.63059796]\n",
      "  [0.61677469]\n",
      "  [0.6035067 ]\n",
      "  ...\n",
      "  [0.91796069]\n",
      "  [0.92642573]\n",
      "  [0.95012499]]\n",
      "\n",
      " [[0.61677469]\n",
      "  [0.6035067 ]\n",
      "  [0.59016368]\n",
      "  ...\n",
      "  [0.92642573]\n",
      "  [0.95012499]\n",
      "  [0.95300672]]\n",
      "\n",
      " [[0.6035067 ]\n",
      "  [0.59016368]\n",
      "  [0.59121433]\n",
      "  ...\n",
      "  [0.95012499]\n",
      "  [0.95300672]\n",
      "  [0.95645884]]]\n"
     ]
    }
   ],
   "source": [
    "print(x_train)"
   ]
  },
  {
   "cell_type": "markdown",
   "metadata": {},
   "source": [
    "Training the LSTM Model"
   ]
  },
  {
   "cell_type": "code",
   "execution_count": 6,
   "metadata": {},
   "outputs": [
    {
     "name": "stdout",
     "output_type": "stream",
     "text": [
      "WARNING:tensorflow:From c:\\Users\\krish\\anaconda3\\Lib\\site-packages\\keras\\src\\backend.py:873: The name tf.get_default_graph is deprecated. Please use tf.compat.v1.get_default_graph instead.\n",
      "\n",
      "WARNING:tensorflow:From c:\\Users\\krish\\anaconda3\\Lib\\site-packages\\keras\\src\\optimizers\\__init__.py:309: The name tf.train.Optimizer is deprecated. Please use tf.compat.v1.train.Optimizer instead.\n",
      "\n",
      "Epoch 1/25\n",
      "WARNING:tensorflow:From c:\\Users\\krish\\anaconda3\\Lib\\site-packages\\keras\\src\\utils\\tf_utils.py:492: The name tf.ragged.RaggedTensorValue is deprecated. Please use tf.compat.v1.ragged.RaggedTensorValue instead.\n",
      "\n",
      "38/38 [==============================] - 7s 42ms/step - loss: 0.0068\n",
      "Epoch 2/25\n",
      "38/38 [==============================] - 2s 43ms/step - loss: 0.0012\n",
      "Epoch 3/25\n",
      "38/38 [==============================] - 2s 42ms/step - loss: 0.0016\n",
      "Epoch 4/25\n",
      "38/38 [==============================] - 2s 41ms/step - loss: 9.2694e-04\n",
      "Epoch 5/25\n",
      "38/38 [==============================] - 2s 42ms/step - loss: 0.0010\n",
      "Epoch 6/25\n",
      "38/38 [==============================] - 2s 41ms/step - loss: 8.0509e-04\n",
      "Epoch 7/25\n",
      "38/38 [==============================] - 2s 40ms/step - loss: 0.0010\n",
      "Epoch 8/25\n",
      "38/38 [==============================] - 2s 42ms/step - loss: 9.2860e-04\n",
      "Epoch 9/25\n",
      "38/38 [==============================] - 2s 40ms/step - loss: 7.1314e-04\n",
      "Epoch 10/25\n",
      "38/38 [==============================] - 2s 41ms/step - loss: 7.8404e-04\n",
      "Epoch 11/25\n",
      "38/38 [==============================] - 2s 40ms/step - loss: 8.6823e-04\n",
      "Epoch 12/25\n",
      "38/38 [==============================] - 2s 40ms/step - loss: 6.5908e-04\n",
      "Epoch 13/25\n",
      "38/38 [==============================] - 2s 40ms/step - loss: 8.7485e-04\n",
      "Epoch 14/25\n",
      "38/38 [==============================] - 2s 40ms/step - loss: 9.1716e-04\n",
      "Epoch 15/25\n",
      "38/38 [==============================] - 2s 40ms/step - loss: 7.5760e-04\n",
      "Epoch 16/25\n",
      "38/38 [==============================] - 2s 41ms/step - loss: 6.2715e-04\n",
      "Epoch 17/25\n",
      "38/38 [==============================] - 2s 40ms/step - loss: 6.6402e-04\n",
      "Epoch 18/25\n",
      "38/38 [==============================] - 2s 40ms/step - loss: 5.8444e-04\n",
      "Epoch 19/25\n",
      "38/38 [==============================] - 2s 41ms/step - loss: 6.7709e-04\n",
      "Epoch 20/25\n",
      "38/38 [==============================] - 2s 45ms/step - loss: 6.5602e-04\n",
      "Epoch 21/25\n",
      "38/38 [==============================] - 2s 42ms/step - loss: 6.1770e-04\n",
      "Epoch 22/25\n",
      "38/38 [==============================] - 2s 42ms/step - loss: 4.4856e-04\n",
      "Epoch 23/25\n",
      "38/38 [==============================] - 2s 42ms/step - loss: 5.5268e-04\n",
      "Epoch 24/25\n",
      "38/38 [==============================] - 2s 43ms/step - loss: 4.9050e-04\n",
      "Epoch 25/25\n",
      "38/38 [==============================] - 2s 43ms/step - loss: 5.9916e-04\n"
     ]
    },
    {
     "data": {
      "text/plain": [
       "<keras.src.callbacks.History at 0x1deefa54150>"
      ]
     },
     "execution_count": 6,
     "metadata": {},
     "output_type": "execute_result"
    }
   ],
   "source": [
    "model = Sequential()\n",
    "\n",
    "model.add(LSTM(units = 50,return_sequences=True, input_shape=(x_train.shape[1], 1)))\n",
    "model.add(Dropout(0.2))\n",
    "model.add(LSTM(units= 50,return_sequences=True))\n",
    "model.add(Dropout(0.2))\n",
    "model.add(LSTM(units=50))\n",
    "model.add(Dense(units = 1))\n",
    "\n",
    "model.compile(optimizer='adam', loss='mean_squared_error')\n",
    "model.fit(x_train,y_train,epochs = 25,batch_size = 32)"
   ]
  },
  {
   "cell_type": "code",
   "execution_count": 7,
   "metadata": {},
   "outputs": [
    {
     "name": "stderr",
     "output_type": "stream",
     "text": [
      "[*********************100%%**********************]  1 of 1 completed\n"
     ]
    }
   ],
   "source": [
    "teststart = dt.datetime(2021,1,1)\n",
    "testend = dt.datetime.now()\n",
    "test_data = yf.download(ticker,start = teststart,end = testend)\n",
    "actual_prices = test_data['Close'].values\n",
    "\n"
   ]
  },
  {
   "cell_type": "code",
   "execution_count": 8,
   "metadata": {},
   "outputs": [
    {
     "name": "stdout",
     "output_type": "stream",
     "text": [
      "Date\n",
      "2016-01-04     14.894000\n",
      "2016-01-05     14.895333\n",
      "2016-01-06     14.602667\n",
      "2016-01-07     14.376667\n",
      "2016-01-08     14.066667\n",
      "                 ...    \n",
      "2024-02-23    191.970001\n",
      "2024-02-26    199.399994\n",
      "2024-02-27    199.729996\n",
      "2024-02-28    202.039993\n",
      "2024-02-29    203.410095\n",
      "Name: Close, Length: 2052, dtype: float64\n"
     ]
    }
   ],
   "source": [
    "total_dataset = pd.concat((data['Close'], test_data['Close']), axis=0)\n",
    "print(total_dataset)"
   ]
  },
  {
   "cell_type": "code",
   "execution_count": 9,
   "metadata": {},
   "outputs": [],
   "source": [
    "model_inputs = total_dataset[len(total_dataset) - len(test_data) - days:].values\n",
    "model_inputs = model_inputs.reshape(-1, 1)\n",
    "model_inputs = scaled.transform(model_inputs)"
   ]
  },
  {
   "cell_type": "code",
   "execution_count": 10,
   "metadata": {},
   "outputs": [
    {
     "name": "stdout",
     "output_type": "stream",
     "text": [
      "25/25 [==============================] - 1s 15ms/step\n"
     ]
    }
   ],
   "source": [
    "x_test =[]\n",
    "for x in range(days,len(model_inputs)):\n",
    "     x_test.append(model_inputs[x-days:x, 0])\n",
    "\n",
    "x_test = np.array(x_test)\n",
    "x_test = np.reshape(x_test, (x_test.shape[0], x_test.shape[1], 1))\n",
    "predicted_prices = model.predict(x_test)\n",
    "predicted_prices = scaled.inverse_transform(predicted_prices)\n",
    "     "
   ]
  },
  {
   "cell_type": "code",
   "execution_count": 11,
   "metadata": {},
   "outputs": [
    {
     "data": {
      "image/png": "[encoded data removed]",
      "text/plain": [
       "<Figure size 640x480 with 1 Axes>"
      ]
     },
     "metadata": {},
     "output_type": "display_data"
    }
   ],
   "source": [
    "plt.plot(actual_prices, color='black', label=f\"Actual {ticker} Price\")\n",
    "plt.plot(predicted_prices, color='green', label=f\"Predicted {ticker} Price\")\n",
    "plt.title(f\"{ticker} Share Price\")\n",
    "plt.xlabel('Time')\n",
    "plt.ylabel(f'{ticker} Share Price')\n",
    "plt.legend()\n",
    "plt.show()"
   ]
  },
  {
   "cell_type": "markdown",
   "metadata": {},
   "source": [
    "Stock Price Prediction"
   ]
  },
  {
   "cell_type": "code",
   "execution_count": 15,
   "metadata": {},
   "outputs": [
    {
     "name": "stdout",
     "output_type": "stream",
     "text": [
      "1/1 [==============================] - 0s 37ms/step\n",
      "Prediction: [[201.01624]]\n"
     ]
    }
   ],
   "source": [
    "# generated a real-time prediction using the last 60 days of data. \n",
    "# I inversely scaled the predicted value back to the original scale and printed out the result\n",
    "\n",
    "real_data = [model_inputs[len(model_inputs) + 1 - days:len(model_inputs+1), 0]]\n",
    "real_data = np.array(real_data)\n",
    "real_data = np.reshape(real_data, (real_data.shape[0], real_data.shape[1], 1))\n",
    "prediction = model.predict(real_data)\n",
    "prediction = scaled.inverse_transform(prediction)\n",
    "\n",
    "print(f\"Prediction: {prediction}\")"
   ]
  },
  {
   "cell_type": "markdown",
   "metadata": {},
   "source": []
  }
 ],
 "metadata": {
  "kernelspec": {
   "display_name": "base",
   "language": "python",
   "name": "python3"
  },
  "language_info": {
   "codemirror_mode": {
    "name": "ipython",
    "version": 3
   },
   "file_extension": ".py",
   "mimetype": "text/x-python",
   "name": "python",
   "nbconvert_exporter": "python",
   "pygments_lexer": "ipython3",
   "version": "3.11.5"
  }
 },
 "nbformat": 4,
 "nbformat_minor": 2
}
